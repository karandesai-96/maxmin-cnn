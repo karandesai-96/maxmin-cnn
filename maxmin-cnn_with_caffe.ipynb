{
 "cells": [
  {
   "cell_type": "markdown",
   "metadata": {},
   "source": [
    "## maxmin-cnn implement in caffe\n",
    "\n",
    "theory about maxmin-cnn pleas check out the [psot](https://karandesai-96.github.io/2016/12/21/maxminify-your-cnns/) and [paper](http://webia.lip6.fr/~thomen/papers/Blot_ICIP_2016.pdf) there are two ways to implement maxmin-cnn in caffe. "
   ]
  },
  {
   "cell_type": "markdown",
   "metadata": {},
   "source": [
    "### implement maxmin-con as single layer\n",
    "rewrite the orignal `conv layer` as `maxmin-conv layer` step by step. here are some awesome tutorial:\n",
    "1. [make a sin layer](https://github.com/BVLC/caffe/wiki/Simple-Example:-Sin-Layer)\n",
    "2. [make a new caffe layer](http://chrischoy.github.io/research/making-caffe-layer/)\n",
    "\n",
    "    "
   ]
  },
  {
   "cell_type": "markdown",
   "metadata": {},
   "source": [
    "### uisng the existing layers to design architecture\n",
    "Since the latest caffe have already implemented [`Scale layer`](http://caffe.berkeleyvision.org/tutorial/layers.html) and [`Concat layer`](http://caffe.berkeleyvision.org/tutorial/layers.html), we  don't need to re-implement the `maxmin-conv layer `. we can simply combine the two layer above."
   ]
  },
  {
   "cell_type": "markdown",
   "metadata": {},
   "source": [
    "`Scale layer` used for `blob` linear manipulatation: `out_ = in_ * \\alpha + \\beta`. when we are desin maxmin-cov `\\alpha = -1` and `\\beta = 0`\n",
    "`Concat layer` used for `blob` concat along num or channels. here we choose concat along channel."
   ]
  },
  {
   "cell_type": "markdown",
   "metadata": {},
   "source": [
    "here is the details about how to design the architecture. \n",
    "1. get orinal architecture, here I take a `lenet` from `caffe/example/mnist/lenet_train_test.prototxt` as example. the sub architecture as below is been added into orignal `lenet` for each `conv layer`\n",
    "\n",
    "```\n",
    "layer {\n",
    "    bottom: \"conv1\"\n",
    "    top: \"sacle_conv1\"\n",
    "    name: \"sacle_conv1\"\n",
    "    type: \"Scale\"\n",
    "\t\n",
    "\tscale_param {\n",
    "\t\tfiller {\n",
    "\t\t  value: -1    }\n",
    "\t\tbias_term: true\n",
    "\t\tbias_filler {\n",
    "\t\t  value: 0\n",
    "\t\t}\n",
    "    }\n",
    "}\n",
    "\n",
    "layer {\n",
    "\tname: \"concat_conv1\"\n",
    "\tbottom: \"conv1\"\n",
    "\tbottom: \"sacle_conv1\"\n",
    "\ttop: \"concat_conv1\"\n",
    "\ttype: \"Concat\"\n",
    "\t\n",
    "\tconcat_param{\n",
    "\t\taxis: 1\n",
    "\t}\n",
    "}\n",
    "```\n",
    "\n",
    "here is the architecture of `lenet_train_test_maxmin-conv.prototxt`\n",
    "\n",
    "![lenet](http://p1.bpimg.com/4851/7aee6a0f5fff727e.png)\n",
    "![lenet-maxmin-conv](http://p1.bpimg.com/4851/ae78548d0c5cdfd5.png)"
   ]
  },
  {
   "cell_type": "code",
   "execution_count": null,
   "metadata": {
    "collapsed": true
   },
   "outputs": [],
   "source": []
  }
 ],
 "metadata": {
  "anaconda-cloud": {},
  "kernelspec": {
   "display_name": "Python [conda root]",
   "language": "python",
   "name": "conda-root-py"
  },
  "language_info": {
   "codemirror_mode": {
    "name": "ipython",
    "version": 2
   },
   "file_extension": ".py",
   "mimetype": "text/x-python",
   "name": "python",
   "nbconvert_exporter": "python",
   "pygments_lexer": "ipython2",
   "version": "2.7.12"
  }
 },
 "nbformat": 4,
 "nbformat_minor": 1
}
